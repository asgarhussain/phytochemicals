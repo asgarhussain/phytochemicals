{
 "cells": [
  {
   "cell_type": "code",
   "execution_count": 18,
   "id": "78f5f2cc",
   "metadata": {},
   "outputs": [],
   "source": [
    "import pandas as pd\n",
    "import sqlite3\n",
    "from sqlite3 import Error\n",
    "from sqlalchemy import create_engine\n"
   ]
  },
  {
   "cell_type": "code",
   "execution_count": null,
   "id": "133d6335",
   "metadata": {},
   "outputs": [],
   "source": []
  },
  {
   "cell_type": "code",
   "execution_count": 23,
   "id": "d172d15f",
   "metadata": {},
   "outputs": [],
   "source": [
    "mole=pd.read_excel(\"database_new.xlsx\")"
   ]
  },
  {
   "cell_type": "code",
   "execution_count": 26,
   "id": "091ee6f2",
   "metadata": {},
   "outputs": [
    {
     "data": {
      "text/plain": [
       "Index(['Phytochemical_name/extract', 'PMID', 'Evidence', 'IUPAC_name',\n",
       "       'Type_of_phytochemicals/Extracts',\n",
       "       'Source_of_phytochemicals_(Name_of_Plant)', 'Geographical_availability',\n",
       "       'Plant_parts', 'Type_of_cancer', 'Target_gene/_Protein',\n",
       "       'Gene_/_Protein_evidence', 'Target_pathway', 'IC50', 'Potency',\n",
       "       'Cell_line/_mice_model', 'ADDITIONAL_INFO. ', 'PUBCHEM_ID',\n",
       "       'ADDITIONAL_PMIDs', 'ADDITIONAL_SOURCES_OF_INFORMATION', 'safety'],\n",
       "      dtype='object')"
      ]
     },
     "execution_count": 26,
     "metadata": {},
     "output_type": "execute_result"
    }
   ],
   "source": [
    "mole.columns"
   ]
  },
  {
   "cell_type": "code",
   "execution_count": 25,
   "id": "87891ab5",
   "metadata": {},
   "outputs": [],
   "source": [
    "mole.columns =mole.columns.str.replace(' ', '_')\n"
   ]
  },
  {
   "cell_type": "code",
   "execution_count": null,
   "id": "ce879ea3",
   "metadata": {},
   "outputs": [],
   "source": []
  },
  {
   "cell_type": "code",
   "execution_count": 27,
   "id": "14319cfb",
   "metadata": {},
   "outputs": [
    {
     "data": {
      "text/plain": [
       "\"\\nmole.columns=['Phytochemical name/extract', 'PMID', 'Evidence', 'IUPAC_name',\\n       'Type_of_phytochemicals',\\n       'Source_of_phytochemicals_(Name_of_Plant)', 'Geographical_availability',\\n       'Plant_parts', 'Type_of_cancer', 'Target gene/ Protein',\\n       'Gene / Protein evidence', 'Target pathway', 'IC50', 'Potency',\\n       'Cell line/ mice model', 'ADDITIONAL INFO. ', 'PUBCHEM ID',\\n       'ADDITIONAL PMIDs', 'ADDITIONAL SOURCES OF INFORMATION', 'safety']\\n\""
      ]
     },
     "execution_count": 27,
     "metadata": {},
     "output_type": "execute_result"
    }
   ],
   "source": [
    "\"\"\"\n",
    "mole.columns=['Phytochemical name/extract', 'PMID', 'Evidence', 'IUPAC_name',\n",
    "       'Type_of_phytochemicals',\n",
    "       'Source_of_phytochemicals_(Name_of_Plant)', 'Geographical_availability',\n",
    "       'Plant_parts', 'Type_of_cancer', 'Target gene/ Protein',\n",
    "       'Gene / Protein evidence', 'Target pathway', 'IC50', 'Potency',\n",
    "       'Cell line/ mice model', 'ADDITIONAL INFO. ', 'PUBCHEM ID',\n",
    "       'ADDITIONAL PMIDs', 'ADDITIONAL SOURCES OF INFORMATION', 'safety']\n",
    "\"\"\"       "
   ]
  },
  {
   "cell_type": "code",
   "execution_count": 28,
   "id": "c187fd15",
   "metadata": {},
   "outputs": [
    {
     "data": {
      "text/plain": [
       "(880, 20)"
      ]
     },
     "execution_count": 28,
     "metadata": {},
     "output_type": "execute_result"
    }
   ],
   "source": [
    "mole.shape"
   ]
  },
  {
   "cell_type": "code",
   "execution_count": 29,
   "id": "fe57e092",
   "metadata": {},
   "outputs": [],
   "source": [
    "\n",
    "engine = create_engine('sqlite:///phyto_chemicals.db', echo=False)\n",
    "sqlite_connection = engine.connect()\n",
    "\n",
    "#vcf_sgrna_feluda_df_full.to_sql?\n",
    "\n",
    "sqlite_table = \"phyto_chemicals\"\n",
    "mole.to_sql(sqlite_table, sqlite_connection,if_exists='replace',chunksize=100)"
   ]
  }
 ],
 "metadata": {
  "kernelspec": {
   "display_name": "Python 3 (ipykernel)",
   "language": "python",
   "name": "python3"
  },
  "language_info": {
   "codemirror_mode": {
    "name": "ipython",
    "version": 3
   },
   "file_extension": ".py",
   "mimetype": "text/x-python",
   "name": "python",
   "nbconvert_exporter": "python",
   "pygments_lexer": "ipython3",
   "version": "3.7.6"
  }
 },
 "nbformat": 4,
 "nbformat_minor": 5
}
