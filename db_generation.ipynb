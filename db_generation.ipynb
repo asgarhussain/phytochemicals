{
 "cells": [
  {
   "cell_type": "code",
   "execution_count": 7,
   "id": "78f5f2cc",
   "metadata": {},
   "outputs": [],
   "source": [
    "import pandas as pd\n",
    "import sqlite3\n",
    "from sqlite3 import Error\n",
    "from sqlalchemy import create_engine\n"
   ]
  },
  {
   "cell_type": "code",
   "execution_count": null,
   "id": "133d6335",
   "metadata": {},
   "outputs": [],
   "source": []
  },
  {
   "cell_type": "code",
   "execution_count": 13,
   "id": "d172d15f",
   "metadata": {},
   "outputs": [],
   "source": [
    "mole=pd.read_excel(\"Phytocat_database.xlsx\")"
   ]
  },
  {
   "cell_type": "code",
   "execution_count": 14,
   "id": "091ee6f2",
   "metadata": {},
   "outputs": [
    {
     "data": {
      "text/plain": [
       "Index(['Phytochemical name/extract', 'TERM 1', 'TERM 2', 'PMID', 'Evidence',\n",
       "       'IUPAC name', 'Type of phytochemicals/Extracts',\n",
       "       'Source of phytochemicals (Name of Plant)', 'Geographical availability',\n",
       "       'Plant parts', 'Type of cancer', 'Target gene/ Protein',\n",
       "       'Gene / Protein evidence', 'Target pathway', 'IC50', 'Potency',\n",
       "       'Cell line/ mice model', 'ADDITIONAL INFO. ', 'PUBCHEM ID',\n",
       "       'ADDITIONAL PMIDs', 'ADDITIONAL SOURCES OF INFORMATION', 'safety',\n",
       "       'compound unique name'],\n",
       "      dtype='object')"
      ]
     },
     "execution_count": 14,
     "metadata": {},
     "output_type": "execute_result"
    }
   ],
   "source": [
    "mole.columns"
   ]
  },
  {
   "cell_type": "code",
   "execution_count": 14,
   "id": "87891ab5",
   "metadata": {},
   "outputs": [],
   "source": [
    "#mole.columns =mole.columns.str.replace(' ', '_')\n"
   ]
  },
  {
   "cell_type": "code",
   "execution_count": 15,
   "id": "14319cfb",
   "metadata": {},
   "outputs": [],
   "source": [
    "mole.columns=['Phytochemical_Name', 'TERM1', 'TERM2', 'PMID', 'Evidence',\n",
    "       'IUPAC_name', 'Type_of_phytochemicals_Extracts',\n",
    "       'Source_of_phytochemicals_Name_of_Plant', 'Geographical_availability',\n",
    "       'Plant_parts', 'Type_of_cancer', 'Target_gene', 'Gene_evidence',\n",
    "       'Target_pathway', 'IC50', 'Potency', 'Cell_line_mice_model',\n",
    "        'ADDITIONAL_INFO', 'PUBCHEM_ID', 'ADDITIONAL_PMIDs',\n",
    "       'ADDITIONAL_SOURCES_OF_INFORMATION', 'Safety', 'Compound_unique_name']"
   ]
  },
  {
   "cell_type": "code",
   "execution_count": 16,
   "id": "c187fd15",
   "metadata": {},
   "outputs": [
    {
     "data": {
      "text/plain": [
       "(966, 23)"
      ]
     },
     "execution_count": 16,
     "metadata": {},
     "output_type": "execute_result"
    }
   ],
   "source": [
    "mole.shape"
   ]
  },
  {
   "cell_type": "code",
   "execution_count": 17,
   "id": "fe57e092",
   "metadata": {},
   "outputs": [],
   "source": [
    "\n",
    "engine = create_engine('sqlite:///phyto_chemicals.db', echo=False)\n",
    "sqlite_connection = engine.connect()\n",
    "\n",
    "#vcf_sgrna_feluda_df_full.to_sql?\n",
    "\n",
    "sqlite_table = \"phyto_chemicals\"\n",
    "mole.to_sql(sqlite_table, sqlite_connection,if_exists='replace',chunksize=100)"
   ]
  }
 ],
 "metadata": {
  "kernelspec": {
   "display_name": "Python 3 (ipykernel)",
   "language": "python",
   "name": "python3"
  },
  "language_info": {
   "codemirror_mode": {
    "name": "ipython",
    "version": 3
   },
   "file_extension": ".py",
   "mimetype": "text/x-python",
   "name": "python",
   "nbconvert_exporter": "python",
   "pygments_lexer": "ipython3",
   "version": "3.7.6"
  }
 },
 "nbformat": 4,
 "nbformat_minor": 5
}
